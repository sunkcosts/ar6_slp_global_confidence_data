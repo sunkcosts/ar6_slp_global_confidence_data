{
 "cells": [
  {
   "cell_type": "markdown",
   "metadata": {},
   "source": [
    "# Clean & Reformat Data\n"
   ]
  },
  {
   "cell_type": "code",
   "execution_count": 1,
   "metadata": {},
   "outputs": [],
   "source": [
    "import os\n",
    "import json\n",
    "import pandas as pd\n",
    "import numpy as np\n",
    "from pathlib import Path\n",
    "from pprint import pprint\n",
    "from netCDF4._netCDF4 import Dataset\n",
    "\n",
    "pd.set_option(\"display.max_rows\", 500)\n",
    "pd.set_option(\"display.max_columns\", 500)\n",
    "pd.set_option(\"display.width\", 1000)"
   ]
  },
  {
   "cell_type": "code",
   "execution_count": 2,
   "metadata": {},
   "outputs": [],
   "source": [
    "original_data_dir = \"data/raw\"\n",
    "datapaths = os.listdir(original_data_dir)"
   ]
  },
  {
   "cell_type": "code",
   "execution_count": 3,
   "metadata": {},
   "outputs": [],
   "source": [
    "datainfo_list = list()\n",
    "\n",
    "for p in datapaths:\n",
    "    temp = dict()\n",
    "    sp = p.split(\".\")\n",
    "    temp[\"confidence\"] = sp[0].replace(\"med\", \"medium\")\n",
    "    temp[\"scenario\"] = sp[1].replace(\"ssp\", \"\")\n",
    "    temp[\"wiki\"] = \"https://www.wikiwand.com/en/Shared_Socioeconomic_Pathways\"\n",
    "    temp[\"doi\"] = \"https://doi.org/10.5281/zenodo.5914710\"\n",
    "    temp[\"download\"] = \"https://zenodo.org/records/5914710/files/ar6.zip?download=1\"\n",
    "    temp[\"local_datapath\"] = f\"./{original_data_dir}/{p}\"\n",
    "    temp[\n",
    "        \"original_datapath\"\n",
    "    ] = f\"ar6/global/confidence_output_files/{temp['confidence']}_confidence/{sp[1]}/total_{sp[1]}_{temp['confidence']}_confidence_values.nc\"\n",
    "    datainfo_list.append(temp)"
   ]
  },
  {
   "cell_type": "code",
   "execution_count": 6,
   "metadata": {},
   "outputs": [],
   "source": [
    "def parse_ssp(datainfo: dict) -> dict:\n",
    "    out = dict()\n",
    "    data = Dataset(datainfo[\"local_datapath\"])\n",
    "    out[\"confidence\"] = datainfo[\"confidence\"]\n",
    "    out[\"scenario\"] = datainfo[\"scenario\"]\n",
    "    out[\"metadata\"] = dict()\n",
    "    description = data.description\n",
    "    description = description.replace(\n",
    "        \"confidence\", f\"{datainfo['confidence']} confidence\"\n",
    "    )\n",
    "    description = description.replace(\"AR6\", f\"SSP {datainfo['scenario']} AR6\")\n",
    "    out[\"metadata\"][\"description\"] = description\n",
    "    out[\"metadata\"][\"reference\"] = dict()\n",
    "    out[\"metadata\"][\"reference\"][\"wiki\"] = datainfo[\"wiki\"]\n",
    "    out[\"metadata\"][\"reference\"][\"doi\"] = datainfo[\"doi\"]\n",
    "    out[\"metadata\"][\"download\"] = dict()\n",
    "    out[\"metadata\"][\"download\"][\"set\"] = datainfo[\"download\"]\n",
    "    out[\"metadata\"][\"download\"][\n",
    "        \"raw\"\n",
    "    ] = f\"https://github.com/sunkcosts/ar6_slp_global_confidence_data/raw/main/data/raw/{out['confidence'][:3]}.ssp{out['scenario']}.nc\"\n",
    "    out[\"metadata\"][\"download\"][\n",
    "        \"ssp\"\n",
    "    ] = f\"https://github.com/sunkcosts/ar6_slp_global_confidence_data/raw/main/data/ssp/{out['confidence'][:3]}.{out['scenario']}.ssp\"\n",
    "    # out[\"metadata\"][\"download\"][\"raw.zenodo.full\"][\"path\"] = datainfo[\"original_datapath\"]\n",
    "\n",
    "    years = [int(y) for y in list(data[\"years\"][:].data)]\n",
    "    quantiles = list(data[\"quantiles\"][:].data)\n",
    "    sea_level_change_mm = np.array(data[\"sea_level_change\"]).T[0].astype(int)\n",
    "    sea_level_change_mm = [\n",
    "        [int(mm) for mm in list(row)] for row in list(sea_level_change_mm)\n",
    "    ]\n",
    "    # df.index = years\n",
    "    # df = df.T.to_dict(orient=\"list\")\n",
    "    quantiles = [round(float(q), 4) for q in quantiles]\n",
    "    out[\"data\"] = dict()\n",
    "    out[\"data\"][\"quantiles\"] = quantiles\n",
    "    out[\"data\"][\"years\"] = years\n",
    "    out[\"data\"][\"sea_level_change_mm\"] = sea_level_change_mm\n",
    "    return out"
   ]
  },
  {
   "cell_type": "code",
   "execution_count": 7,
   "metadata": {},
   "outputs": [],
   "source": [
    "for di in datainfo_list:\n",
    "    out = parse_ssp(di)\n",
    "    with open(f\"./data/ssp/{di['confidence'][:3]}.{di['scenario']}.ssp\", \"w\") as f:\n",
    "        f.write(json.dumps(out, indent=4))\n",
    "    f.close()"
   ]
  },
  {
   "cell_type": "code",
   "execution_count": null,
   "metadata": {},
   "outputs": [],
   "source": []
  }
 ],
 "metadata": {
  "kernelspec": {
   "display_name": "sunkcosts",
   "language": "python",
   "name": "python3"
  },
  "language_info": {
   "codemirror_mode": {
    "name": "ipython",
    "version": 3
   },
   "file_extension": ".py",
   "mimetype": "text/x-python",
   "name": "python",
   "nbconvert_exporter": "python",
   "pygments_lexer": "ipython3",
   "version": "3.11.5"
  }
 },
 "nbformat": 4,
 "nbformat_minor": 2
}
